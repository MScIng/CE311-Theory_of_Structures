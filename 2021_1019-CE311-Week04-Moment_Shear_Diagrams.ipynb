{
 "cells": [
  {
   "cell_type": "markdown",
   "id": "ec423ee6-462a-4de2-903c-8e03e3cd9e62",
   "metadata": {},
   "source": [
    "2021_1019-Ahmet Anıl Dindar\n",
    "\n",
    "---\n",
    "\n",
    "# CE311 Theory of Structures 1 \n",
    "\n",
    "\n",
    "## Week04  Shear and Moment Diagrams\n",
    "---"
   ]
  },
  {
   "cell_type": "markdown",
   "id": "5e0b6b4a-62cc-4fed-a87c-44e085ca2e61",
   "metadata": {},
   "source": [
    "## Example 1 "
   ]
  },
  {
   "cell_type": "markdown",
   "id": "80abe191-7a2e-497c-b200-a15555a8fd86",
   "metadata": {
    "tags": []
   },
   "source": [
    "Draw the shear and moment diagrams for the beam.\n",
    "\n",
    "<img src=\"figures/1-Simple_Beam.png\" width=\"800\">"
   ]
  },
  {
   "cell_type": "markdown",
   "id": "3f2ea7f6-7a5a-4363-8fc1-1ca3e8c29558",
   "metadata": {
    "tags": []
   },
   "source": [
    "Now think about the arbitrary cross section at a x distance.\n",
    "\n",
    "<img src=\"figures/1-Simple_Beam_2.png\"  width= \"300\">"
   ]
  },
  {
   "cell_type": "code",
   "execution_count": 59,
   "id": "7e883c11-8187-492a-a2fc-9e8e36ede6c5",
   "metadata": {
    "tags": []
   },
   "outputs": [],
   "source": [
    "def simple_beam_uniform_load( q , l, plot = False):\n",
    "    \"\"\"\n",
    "    q : Uniform Load ( kN/m)\n",
    "    l : Length (m)\n",
    "    \n",
    "    Return\n",
    "    \n",
    "    Support reactions (SR_left , SR_right)\n",
    "    Shear values \n",
    "    Moment values\n",
    "    \n",
    "    Plot (optional)\n",
    "    \"\"\"\n",
    "    # Support reaction\n",
    "    SR_left = SR_right = 0.5*q*l\n",
    "    \n",
    "    # Shear function\n",
    "    V_function = lambda x : SR_left - q * x\n",
    "    V_values = list( map( V_function , range(l+1)))\n",
    "    \n",
    "    # Moment function\n",
    "    M_function = lambda x : SR_left * x - q*x*(x/2)\n",
    "    M_values = list( map( M_function , range(l+1)))\n",
    "    \n",
    "    # Plots\n",
    "    if plot == True : \n",
    "        import matplotlib.pyplot as plt\n",
    "        plt.figure()\n",
    "        plt.plot( range(l+1) , V_values, label=\"Shear\")\n",
    "        plt.fill_between( range(l+1) , M_values, label=\"Moment\", alpha=0.5)\n",
    "        plt.axhline(c=\"k\")\n",
    "        plt.xlim( 0 , l)\n",
    "        plt.box(False)\n",
    "        plt.legend()   \n",
    "    return( SR_left , SR_right, V_values , M_values)"
   ]
  },
  {
   "cell_type": "code",
   "execution_count": 60,
   "id": "de935ea5-3d9f-43c3-9fd1-dea4ac73539a",
   "metadata": {},
   "outputs": [
    {
     "data": {
      "text/plain": [
       "(25.0,\n",
       " 25.0,\n",
       " [25.0, 15.0, 5.0, -5.0, -15.0, -25.0],\n",
       " [0.0, 20.0, 30.0, 30.0, 20.0, 0.0])"
      ]
     },
     "execution_count": 60,
     "metadata": {},
     "output_type": "execute_result"
    },
    {
     "data": {
      "image/png": "[encoded data removed]",
      "text/plain": [
       "<Figure size 432x288 with 1 Axes>"
      ]
     },
     "metadata": {
      "needs_background": "light"
     },
     "output_type": "display_data"
    }
   ],
   "source": [
    "simple_beam_uniform_load(10 , 5 , True)"
   ]
  },
  {
   "cell_type": "code",
   "execution_count": 56,
   "id": "f26a9785-12b8-4013-ab32-d1222678415e",
   "metadata": {},
   "outputs": [],
   "source": [
    "def simple_beam_uniform_load_student( q , l , plot_visible = False):\n",
    "    import numpy as np\n",
    "    # Calculation of the support reactions\n",
    "    SR_left = q * l * 0.5\n",
    "    SR_right = SR_left\n",
    "    # \n",
    "    spacing = np.arange(0,l+1,0.1)\n",
    "    # Shear Function\n",
    "    V_values =  []\n",
    "    for x in spacing :\n",
    "        #print( x )\n",
    "        V_values.append( SR_left - q * x)\n",
    "    # Moment function\n",
    "    M_values =  []\n",
    "\n",
    "    for x in spacing:\n",
    "        M_values.append( SR_left * x - (q*x)*(x/2))\n",
    "    \n",
    "    if plot_visible == True : \n",
    "        # Visualization\n",
    "        import matplotlib.pyplot as plt\n",
    "\n",
    "        fig, ax1 = plt.subplots()\n",
    "        ax2 = ax1.twinx()\n",
    "        ax1.plot(spacing, V_values, 'g-' )\n",
    "        ax2.plot(spacing, M_values, 'b-')\n",
    "\n",
    "        ax1.set_xlabel('x (m)')\n",
    "        ax1.set_ylabel('Shear (kN)', color='g')\n",
    "        ax2.set_ylabel('Moment (kNm)', color='b')\n",
    "        plt.xlim(0,l)\n",
    "        plt.show()\n",
    "\n",
    "    return( SR_left , SR_right , V_values , M_values)"
   ]
  },
  {
   "cell_type": "code",
   "execution_count": 57,
   "id": "e8c17b68-94f6-44da-b0d6-899b6ab77525",
   "metadata": {},
   "outputs": [
    {
     "data": {
      "image/png": "[encoded data removed]",
      "text/plain": [
       "<Figure size 432x288 with 2 Axes>"
      ]
     },
     "metadata": {
      "needs_background": "light"
     },
     "output_type": "display_data"
    }
   ],
   "source": [
    "q = 10 # kn/m\n",
    "l = 5 # m\n",
    "\n",
    "Ay , By , V , M = simple_beam_uniform_load_student( q , l  , plot_visible=True)\n"
   ]
  },
  {
   "cell_type": "code",
   "execution_count": 58,
   "id": "cd8d9092-1544-472f-840f-37d0bccb9fe5",
   "metadata": {
    "collapsed": true,
    "jupyter": {
     "outputs_hidden": true
    },
    "tags": []
   },
   "outputs": [
    {
     "data": {
      "text/plain": [
       "(25.0,\n",
       " 25.0,\n",
       " [25.0,\n",
       "  24.0,\n",
       "  23.0,\n",
       "  22.0,\n",
       "  21.0,\n",
       "  20.0,\n",
       "  19.0,\n",
       "  18.0,\n",
       "  17.0,\n",
       "  16.0,\n",
       "  15.0,\n",
       "  14.0,\n",
       "  12.999999999999998,\n",
       "  12.0,\n",
       "  10.999999999999998,\n",
       "  10.0,\n",
       "  9.0,\n",
       "  8.0,\n",
       "  7.0,\n",
       "  6.0,\n",
       "  5.0,\n",
       "  4.0,\n",
       "  3.0,\n",
       "  1.9999999999999964,\n",
       "  0.9999999999999964,\n",
       "  0.0,\n",
       "  -1.0,\n",
       "  -2.0,\n",
       "  -3.0000000000000036,\n",
       "  -4.0000000000000036,\n",
       "  -5.0,\n",
       "  -6.0,\n",
       "  -7.0,\n",
       "  -8.0,\n",
       "  -9.0,\n",
       "  -10.0,\n",
       "  -11.0,\n",
       "  -12.0,\n",
       "  -13.0,\n",
       "  -14.0,\n",
       "  -15.0,\n",
       "  -16.000000000000007,\n",
       "  -17.0,\n",
       "  -18.0,\n",
       "  -19.0,\n",
       "  -20.0,\n",
       "  -21.000000000000007,\n",
       "  -22.0,\n",
       "  -23.000000000000007,\n",
       "  -24.0,\n",
       "  -25.0,\n",
       "  -26.000000000000007,\n",
       "  -27.0,\n",
       "  -28.000000000000007,\n",
       "  -29.0,\n",
       "  -30.0,\n",
       "  -31.000000000000007,\n",
       "  -32.0,\n",
       "  -33.00000000000001,\n",
       "  -34.0],\n",
       " [0.0,\n",
       "  2.45,\n",
       "  4.8,\n",
       "  7.050000000000001,\n",
       "  9.2,\n",
       "  11.25,\n",
       "  13.200000000000001,\n",
       "  15.049999999999999,\n",
       "  16.8,\n",
       "  18.45,\n",
       "  20.0,\n",
       "  21.450000000000003,\n",
       "  22.8,\n",
       "  24.049999999999997,\n",
       "  25.199999999999996,\n",
       "  26.25,\n",
       "  27.2,\n",
       "  28.050000000000004,\n",
       "  28.8,\n",
       "  29.45,\n",
       "  30.0,\n",
       "  30.45,\n",
       "  30.800000000000004,\n",
       "  31.05,\n",
       "  31.2,\n",
       "  31.25,\n",
       "  31.199999999999996,\n",
       "  31.049999999999997,\n",
       "  30.79999999999999,\n",
       "  30.450000000000003,\n",
       "  30.0,\n",
       "  29.449999999999996,\n",
       "  28.799999999999997,\n",
       "  28.049999999999997,\n",
       "  27.20000000000001,\n",
       "  26.25,\n",
       "  25.200000000000003,\n",
       "  24.049999999999997,\n",
       "  22.799999999999997,\n",
       "  21.450000000000003,\n",
       "  20.0,\n",
       "  18.44999999999999,\n",
       "  16.799999999999997,\n",
       "  15.049999999999997,\n",
       "  13.200000000000003,\n",
       "  11.25,\n",
       "  9.199999999999989,\n",
       "  7.049999999999997,\n",
       "  4.799999999999983,\n",
       "  2.450000000000003,\n",
       "  0.0,\n",
       "  -2.5500000000000256,\n",
       "  -5.200000000000017,\n",
       "  -7.950000000000017,\n",
       "  -10.800000000000011,\n",
       "  -13.75,\n",
       "  -16.80000000000004,\n",
       "  -19.950000000000017,\n",
       "  -23.200000000000017,\n",
       "  -26.55000000000001])"
      ]
     },
     "execution_count": 58,
     "metadata": {},
     "output_type": "execute_result"
    }
   ],
   "source": [
    "Ay, By , V ,M"
   ]
  },
  {
   "cell_type": "markdown",
   "id": "d6954d28-4366-4b6e-986d-3982442d1bfd",
   "metadata": {
    "jupyter": {
     "source_hidden": true
    },
    "tags": []
   },
   "source": [
    "V(x) + q * x - Ay = 0\n",
    "V(x) = Ay - q * x\n",
    "\n",
    "---\n",
    "M(x) + (q * x) * (x / 2) - (Ay * x) = 0\n",
    "M(x) = -(q * x) * (x / 2) + (Ay * x) \n",
    "\n"
   ]
  },
  {
   "cell_type": "markdown",
   "id": "bffdd069-e663-42c7-968f-de31afcda17e",
   "metadata": {
    "tags": []
   },
   "source": [
    "## Example 2 "
   ]
  },
  {
   "cell_type": "markdown",
   "id": "8418f853-f104-4eef-b3cd-d2661e3a1881",
   "metadata": {
    "tags": []
   },
   "source": [
    "Draw the shear and moment diagrams for the beam.\n",
    "\n",
    "<img src=\"figures/2-Simple_Beam_1.png\" width=\"600\">\n",
    "\n",
    "<img src=\"figures/2-Simple_Beam_1_loading.png\" width=\"600\">\n",
    "\n",
    "<img src=\"figures/hadibe.png\" width=\"600\">\n"
   ]
  },
  {
   "cell_type": "code",
   "execution_count": 68,
   "id": "517a96f0-f395-46e2-8794-8e84c974149e",
   "metadata": {},
   "outputs": [],
   "source": [
    "def simple_beam_triangel_load_student( q_left , q_right , l , plot_visible = False):\n",
    "    \"\"\"\n",
    "    q_left , \n",
    "    q_right , \n",
    "    l , \n",
    "    plot_visible = False\n",
    "    \n",
    "    \"\"\"\n",
    "    import numpy as np\n",
    "    # Calculation of the support reactions\n",
    "    SR_left = (0.5*q_right * l) * 1/3 if q_left == 0  else  (0.5*q_right*l)*2/3\n",
    "    SR_right = (0.5*q_right * l) - SR_left\n",
    "    # \n",
    "    spacing = np.arange(0,l+1,0.1)\n",
    "    # Shear Function\n",
    "    V_values =  []\n",
    "    for x in spacing :\n",
    "        #print( x )\n",
    "        if q_left == 0 : \n",
    "            q_section = (x/l)* q_right\n",
    "            V_values.append( SR_left - q_section * x * 0.5) \n",
    "            \n",
    "        else : \n",
    "            q_section = ((l-x)/l)* q_left\n",
    "            V_values.append( SR_left - (q_section * x + 0.5*x(q_left-q_section))  )\n",
    "\n",
    "\n",
    "    # Moment function\n",
    "    \n",
    "    \n",
    "    from scipy import integrate\n",
    "    \n",
    "    M_values =  integrate.cumtrapz( V_values , spacing  , initial = 0 )\n",
    "        \n",
    "    \n",
    "    if plot_visible == True : \n",
    "        # Visualization\n",
    "        import matplotlib.pyplot as plt\n",
    "\n",
    "        fig, ax1 = plt.subplots()\n",
    "        ax2 = ax1.twinx()\n",
    "        ax1.plot(spacing, V_values, 'g-' )\n",
    "        ax2.plot(spacing, M_values, 'b-')\n",
    "\n",
    "        ax1.set_xlabel('x (m)')\n",
    "        ax1.set_ylabel('Shear (kN)', color='g')\n",
    "        ax2.set_ylabel('Moment (kNm)', color='b')\n",
    "        plt.xlim(0,l)\n",
    "        plt.show()\n",
    "\n",
    "    return( SR_left , SR_right , V_values, M_values)\n"
   ]
  },
  {
   "cell_type": "code",
   "execution_count": 69,
   "id": "54b38072-5f47-4193-902a-ed4b73f95f42",
   "metadata": {},
   "outputs": [
    {
     "data": {
      "image/png": "[encoded data removed]",
      "text/plain": [
       "<Figure size 432x288 with 2 Axes>"
      ]
     },
     "metadata": {
      "needs_background": "light"
     },
     "output_type": "display_data"
    }
   ],
   "source": [
    "Ay, By , V , M = simple_beam_triangel_load_student( q_left=0 , q_right=10 , l=10 , plot_visible = True)"
   ]
  },
  {
   "cell_type": "code",
   "execution_count": 70,
   "id": "b3651834-65db-46ce-838d-a85b5916b25d",
   "metadata": {},
   "outputs": [
    {
     "data": {
      "text/plain": [
       "0.0"
      ]
     },
     "execution_count": 70,
     "metadata": {},
     "output_type": "execute_result"
    }
   ],
   "source": [
    "M[0]"
   ]
  },
  {
   "cell_type": "code",
   "execution_count": 72,
   "id": "45511c87-3b49-4529-bcd3-961d2ee1fc82",
   "metadata": {},
   "outputs": [
    {
     "data": {
      "text/plain": [
       "array([ 0.00000000e+00,  1.66641667e+00,  3.33183333e+00,  4.99525000e+00,\n",
       "        6.65566667e+00,  8.31208333e+00,  9.96350000e+00,  1.16089167e+01,\n",
       "        1.32473333e+01,  1.48777500e+01,  1.64991667e+01,  1.81105833e+01,\n",
       "        1.97110000e+01,  2.12994167e+01,  2.28748333e+01,  2.44362500e+01,\n",
       "        2.59826667e+01,  2.75130833e+01,  2.90265000e+01,  3.05219167e+01,\n",
       "        3.19983333e+01,  3.34547500e+01,  3.48901667e+01,  3.63035833e+01,\n",
       "        3.76940000e+01,  3.90604167e+01,  4.04018333e+01,  4.17172500e+01,\n",
       "        4.30056667e+01,  4.42660833e+01,  4.54975000e+01,  4.66989167e+01,\n",
       "        4.78693333e+01,  4.90077500e+01,  5.01131667e+01,  5.11845833e+01,\n",
       "        5.22210000e+01,  5.32214167e+01,  5.41848333e+01,  5.51102500e+01,\n",
       "        5.59966667e+01,  5.68430833e+01,  5.76485000e+01,  5.84119167e+01,\n",
       "        5.91323333e+01,  5.98087500e+01,  6.04401667e+01,  6.10255833e+01,\n",
       "        6.15640000e+01,  6.20544167e+01,  6.24958333e+01,  6.28872500e+01,\n",
       "        6.32276667e+01,  6.35160833e+01,  6.37515000e+01,  6.39329167e+01,\n",
       "        6.40593333e+01,  6.41297500e+01,  6.41431667e+01,  6.40985833e+01,\n",
       "        6.39950000e+01,  6.38314167e+01,  6.36068333e+01,  6.33202500e+01,\n",
       "        6.29706667e+01,  6.25570833e+01,  6.20785000e+01,  6.15339167e+01,\n",
       "        6.09223333e+01,  6.02427500e+01,  5.94941667e+01,  5.86755833e+01,\n",
       "        5.77860000e+01,  5.68244167e+01,  5.57898333e+01,  5.46812500e+01,\n",
       "        5.34976667e+01,  5.22380833e+01,  5.09015000e+01,  4.94869167e+01,\n",
       "        4.79933333e+01,  4.64197500e+01,  4.47651667e+01,  4.30285833e+01,\n",
       "        4.12090000e+01,  3.93054167e+01,  3.73168333e+01,  3.52422500e+01,\n",
       "        3.30806667e+01,  3.08310833e+01,  2.84925000e+01,  2.60639167e+01,\n",
       "        2.35443333e+01,  2.09327500e+01,  1.82281667e+01,  1.54295833e+01,\n",
       "        1.25360000e+01,  9.54641667e+00,  6.45983333e+00,  3.27525000e+00,\n",
       "       -8.33333333e-03, -3.39191667e+00, -6.87650000e+00, -1.04630833e+01,\n",
       "       -1.41526667e+01, -1.79462500e+01, -2.18448333e+01, -2.58494167e+01,\n",
       "       -2.99610000e+01, -3.41805833e+01])"
      ]
     },
     "execution_count": 72,
     "metadata": {},
     "output_type": "execute_result"
    }
   ],
   "source": [
    "M"
   ]
  },
  {
   "cell_type": "code",
   "execution_count": null,
   "id": "a46bea0a-1461-4e4b-b72c-3dd5070065ae",
   "metadata": {},
   "outputs": [],
   "source": []
  },
  {
   "cell_type": "code",
   "execution_count": null,
   "id": "97169515-558d-403c-bd92-aefa917a3f61",
   "metadata": {},
   "outputs": [],
   "source": []
  },
  {
   "cell_type": "code",
   "execution_count": null,
   "id": "f7d3ee21-e404-42fe-a855-cfd36d5b7099",
   "metadata": {},
   "outputs": [],
   "source": []
  },
  {
   "cell_type": "markdown",
   "id": "86bb24fb-522a-4019-8895-0a0687030e87",
   "metadata": {
    "tags": []
   },
   "source": [
    "## Example 3 "
   ]
  },
  {
   "cell_type": "markdown",
   "id": "a26b8704-ee35-4f90-a482-bf2786a3fd1d",
   "metadata": {
    "tags": []
   },
   "source": [
    "Draw the shear and moment diagrams for the beam.\n",
    "\n",
    "<img src=\"figures/3-Cantilever_Beam_1.png\">"
   ]
  },
  {
   "cell_type": "code",
   "execution_count": null,
   "id": "6287ae9e-6fe8-4135-adfd-b5dd2d250b96",
   "metadata": {},
   "outputs": [],
   "source": []
  }
 ],
 "metadata": {
  "kernelspec": {
   "display_name": "Python 3",
   "language": "python",
   "name": "python3"
  },
  "language_info": {
   "codemirror_mode": {
    "name": "ipython",
    "version": 3
   },
   "file_extension": ".py",
   "mimetype": "text/x-python",
   "name": "python",
   "nbconvert_exporter": "python",
   "pygments_lexer": "ipython3",
   "version": "3.8.5"
  },
  "toc-autonumbering": false
 },
 "nbformat": 4,
 "nbformat_minor": 5
}
